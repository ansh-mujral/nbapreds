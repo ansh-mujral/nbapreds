{
 "cells": [
  {
   "cell_type": "code",
   "execution_count": 2,
   "metadata": {},
   "outputs": [],
   "source": [
    "#imports\n",
    "import pandas as pd\n",
    "import numpy as np\n",
    "from sklearn.model_selection import train_test_split\n",
    "from sklearn.metrics import mean_absolute_error\n",
    "from sklearn.tree import DecisionTreeRegressor\n",
    "from nba_api.stats.endpoints import playercareerstats\n",
    "from nba_api.stats.endpoints import playergamelog\n",
    "from nba_api.stats.endpoints import leaguedashplayerbiostats\n",
    "from nba_api.stats.endpoints import playerdashboardbygeneralsplits\n",
    "from nba_api.stats.endpoints import playervsplayer\n",
    "from nba_api.stats.endpoints import leaguedashteamstats\n",
    "from nba_api.stats.static import teams\n",
    "from nba_api.stats.endpoints import teamgamelog, boxscoresummaryv2, boxscoretraditionalv2\n",
    "import time"
   ]
  },
  {
   "cell_type": "code",
   "execution_count": 4,
   "metadata": {},
   "outputs": [],
   "source": [
    "def player_id(player_name):\n",
    "    players = leaguedashplayerbiostats.LeagueDashPlayerBioStats()\n",
    "    players_data = players.get_data_frames()[0]\n",
    "    player_id = players_data[players_data['PLAYER_NAME'] == player_name].get('PLAYER_ID')\n",
    "    return player_id"
   ]
  },
  {
   "cell_type": "code",
   "execution_count": 3,
   "metadata": {},
   "outputs": [],
   "source": [
    "#function to get player gamelog based on Player Name rather than ID\n",
    "\n",
    "def player_gamelog(player_name):\n",
    "    id = player_id(player_name)\n",
    "    gamelog = playergamelog.PlayerGameLog(player_id= id)\n",
    "    return gamelog.get_data_frames()[0]"
   ]
  },
  {
   "cell_type": "code",
   "execution_count": 5,
   "metadata": {},
   "outputs": [],
   "source": [
    "def playerVplayer(player_name, vs_player_name):\n",
    "    id = player_id(player_name)\n",
    "    vid = player_id(vs_player_name)\n",
    "    gamelog = playervsplayer.PlayerVsPlayer(vs_player_id=vid, player_id=id)\n",
    "    return gamelog.get_data_frames()\n",
    "\n",
    "# playerVplayer('Nikola Jokic', 'Rudy Gobert')"
   ]
  },
  {
   "cell_type": "code",
   "execution_count": 6,
   "metadata": {},
   "outputs": [],
   "source": [
    "# Will add a Home_Away column to the gamelog so that the ML model can use that as a variable\n",
    "def homeOrAway(player_gamelog):\n",
    "    player_gamelog['Home_Away'] = player_gamelog['MATCHUP'].apply(lambda x: 0 if '@' in x else 1)\n",
    "    return player_gamelog"
   ]
  },
  {
   "cell_type": "code",
   "execution_count": null,
   "metadata": {},
   "outputs": [],
   "source": [
    "def get_nba_teams():\n",
    "    nba_teams = teams.get_teams()  # Fetch data\n",
    "    # Filter to get only active NBA teams and return as DataFrame\n",
    "    return pd.DataFrame(nba_teams)\n",
    "\n",
    "nba_teams = get_nba_teams()\n",
    "print(nba_teams[['id', 'abbreviation', 'full_name']])"
   ]
  },
  {
   "cell_type": "code",
   "execution_count": 14,
   "metadata": {},
   "outputs": [
    {
     "name": "stdout",
     "output_type": "stream",
     "text": [
      "  SEASON_ID  Player_ID     Game_ID     GAME_DATE    MATCHUP WL  MIN  FGM  FGA  \\\n",
      "7     22024       2544  0022400334  DEC 06, 2024  LAL @ ATL  L   43   14   25   \n",
      "\n",
      "   FG_PCT  ...  DREB  REB  AST  STL  BLK  TOV  PF  PTS  PLUS_MINUS  \\\n",
      "7    0.56  ...    10   10   11    2    3    4   3   39           3   \n",
      "\n",
      "   VIDEO_AVAILABLE  \n",
      "7                1  \n",
      "\n",
      "[1 rows x 27 columns]\n"
     ]
    }
   ],
   "source": [
    "def againstThisTeam(player_gamelog, home_team_abbrev, opp_team_abbrev):\n",
    "    awaySearchString = home_team_abbrev + ' vs. ' + opp_team_abbrev\n",
    "    homeSearchString = home_team_abbrev + ' @ ' + opp_team_abbrev\n",
    "    newGameLog = player_gamelog.loc[player_gamelog.MATCHUP.isin([homeSearchString, awaySearchString])]\n",
    "    return newGameLog\n",
    "\n",
    "#Test\n",
    "kingStats = player_gamelog('LeBron James')\n",
    "print(againstThisTeam(kingStats, 'LAL', 'ATL'))"
   ]
  },
  {
   "cell_type": "code",
   "execution_count": 19,
   "metadata": {},
   "outputs": [
    {
     "name": "stdout",
     "output_type": "stream",
     "text": [
      "      GAME_DATE    MATCHUP  REB  AST  STL  BLK  PTS  MIN\n",
      "7  DEC 06, 2024  LAL @ ATL   10   11    2    3   39   43\n"
     ]
    }
   ],
   "source": [
    "def boxStatsAgainstThisTeam(player_gamelog, home_team_abbrev, opp_team_abbrev):\n",
    "    new_log = againstThisTeam(player_gamelog, home_team_abbrev, opp_team_abbrev)\n",
    "    new_log = new_log.loc[:, ['GAME_DATE', 'MATCHUP', 'REB', 'AST', 'STL', 'BLK', 'PTS', 'MIN']]\n",
    "    print(new_log)\n",
    "#test\n",
    "kingStats = player_gamelog('LeBron James')\n",
    "boxStatsAgainstThisTeam(kingStats, 'LAL', 'ATL')"
   ]
  },
  {
   "cell_type": "code",
   "execution_count": 20,
   "metadata": {},
   "outputs": [
    {
     "name": "stdout",
     "output_type": "stream",
     "text": [
      "   SEASON_ID  Player_ID     Game_ID     GAME_DATE      MATCHUP WL  MIN  FGM  \\\n",
      "0      22024       2544  0022400468  JAN 02, 2025  LAL vs. POR  W   36   15   \n",
      "1      22024       2544  0022400454  DEC 31, 2024  LAL vs. CLE  L   34    9   \n",
      "2      22024       2544  0022400408  DEC 25, 2024    LAL @ GSW  W   37   12   \n",
      "3      22024       2544  0022400404  DEC 23, 2024  LAL vs. DET  L   35   10   \n",
      "4      22024       2544  0022400376  DEC 21, 2024    LAL @ SAC  W   34   13   \n",
      "5      22024       2544  0022400372  DEC 19, 2024    LAL @ SAC  W   34    8   \n",
      "6      22024       2544  0022401220  DEC 15, 2024  LAL vs. MEM  W   34    7   \n",
      "7      22024       2544  0022400334  DEC 06, 2024    LAL @ ATL  L   43   14   \n",
      "8      22024       2544  0022400321  DEC 04, 2024    LAL @ MIA  L   29   12   \n",
      "9      22024       2544  0022400318  DEC 02, 2024    LAL @ MIN  L   31    4   \n",
      "10     22024       2544  0022400311  DEC 01, 2024    LAL @ UTA  W   36   12   \n",
      "11     22024       2544  0022400048  NOV 29, 2024  LAL vs. OKC  L   34    5   \n",
      "12     22024       2544  0022400296  NOV 27, 2024    LAL @ SAS  W   33    8   \n",
      "13     22024       2544  0022400039  NOV 26, 2024    LAL @ PHX  L   35    7   \n",
      "14     22024       2544  0022400270  NOV 23, 2024  LAL vs. DEN  L   35    7   \n",
      "15     22024       2544  0022400263  NOV 21, 2024  LAL vs. ORL  L   37   12   \n",
      "16     22024       2544  0022400026  NOV 19, 2024  LAL vs. UTA  W   34    9   \n",
      "17     22024       2544  0022400231  NOV 16, 2024    LAL @ NOP  W   37    8   \n",
      "18     22024       2544  0022400015  NOV 15, 2024    LAL @ SAS  W   38    6   \n",
      "19     22024       2544  0022400225  NOV 13, 2024  LAL vs. MEM  W   37   13   \n",
      "20     22024       2544  0022400211  NOV 10, 2024  LAL vs. TOR  W   35    6   \n",
      "21     22024       2544  0022400195  NOV 08, 2024  LAL vs. PHI  W   34    9   \n",
      "22     22024       2544  0022400174  NOV 06, 2024    LAL @ MEM  L   35   15   \n",
      "23     22024       2544  0022400156  NOV 04, 2024    LAL @ DET  L   40    7   \n",
      "24     22024       2544  0022400137  NOV 01, 2024    LAL @ TOR  W   36    9   \n",
      "25     22024       2544  0022400118  OCT 30, 2024    LAL @ CLE  L   29    9   \n",
      "26     22024       2544  0022400111  OCT 28, 2024    LAL @ PHX  L   36    3   \n",
      "27     22024       2544  0022400096  OCT 26, 2024  LAL vs. SAC  W   34   12   \n",
      "28     22024       2544  0022400085  OCT 25, 2024  LAL vs. PHX  W   35    7   \n",
      "29     22024       2544  0022400062  OCT 22, 2024  LAL vs. MIN  W   35    7   \n",
      "\n",
      "    FGA  FG_PCT  ...  DREB  REB  AST  STL  BLK  TOV  PF  PTS  PLUS_MINUS  \\\n",
      "0    25   0.600  ...     2    3    8    0    0    4   1   38           4   \n",
      "1    17   0.529  ...     4    4    7    0    1    2   1   23         -11   \n",
      "2    22   0.545  ...     4    4   10    2    1    1   3   31           4   \n",
      "3    16   0.625  ...     9   11   11    0    0    2   1   28          -1   \n",
      "4    24   0.542  ...     7    7    6    4    0    4   2   32          10   \n",
      "5    21   0.381  ...     6    6    7    0    1    2   1   19          13   \n",
      "6    17   0.412  ...     4    8    8    1    2    5   2   18           0   \n",
      "7    25   0.560  ...    10   10   11    2    3    4   3   39           3   \n",
      "8    18   0.667  ...     4    5    8    1    0    5   2   29         -21   \n",
      "9    16   0.250  ...     5    8    4    0    0    6   1   10         -28   \n",
      "10   28   0.429  ...     4    5   14    0    2    3   1   27           0   \n",
      "11   13   0.385  ...     8    8    6    0    0    5   0   12         -12   \n",
      "12   18   0.444  ...     7   10   11    1    1    5   0   16           4   \n",
      "13   16   0.438  ...     7    8   10    0    0    5   0   18         -30   \n",
      "14   17   0.412  ...     6    6    7    3    0    6   3   18         -25   \n",
      "15   22   0.545  ...     8   10    7    0    1    4   0   31          -8   \n",
      "16   17   0.529  ...     2    2   12    0    0    4   1   26          -5   \n",
      "17   19   0.421  ...     3    7    5    1    0    6   1   21           1   \n",
      "18   12   0.500  ...    15   16   12    1    0    7   0   15           3   \n",
      "19   22   0.591  ...    11   12   14    1    0    6   2   35           3   \n",
      "20   14   0.429  ...     8   10   16    1    0    3   0   19          13   \n",
      "21   14   0.643  ...    12   12   13    0    3    2   0   21          12   \n",
      "22   24   0.625  ...     7    7    6    1    0    5   2   39         -21   \n",
      "23   16   0.438  ...     7    8   11    2    0    1   1   20         -16   \n",
      "24   17   0.529  ...     6    6   10    1    0    0   1   27          11   \n",
      "25   13   0.692  ...     5    6    3    0    0    6   2   26         -17   \n",
      "26   14   0.214  ...     5    5    8    1    0    2   1   11         -17   \n",
      "27   22   0.545  ...    14   14   10    0    1    5   3   32          13   \n",
      "28   13   0.538  ...     4    4    8    0    0    2   1   21          14   \n",
      "29   16   0.438  ...     5    5    4    0    2    2   3   16          -6   \n",
      "\n",
      "    VIDEO_AVAILABLE  \n",
      "0                 1  \n",
      "1                 1  \n",
      "2                 1  \n",
      "3                 1  \n",
      "4                 1  \n",
      "5                 1  \n",
      "6                 1  \n",
      "7                 1  \n",
      "8                 1  \n",
      "9                 1  \n",
      "10                1  \n",
      "11                1  \n",
      "12                1  \n",
      "13                1  \n",
      "14                1  \n",
      "15                1  \n",
      "16                1  \n",
      "17                1  \n",
      "18                1  \n",
      "19                1  \n",
      "20                1  \n",
      "21                1  \n",
      "22                1  \n",
      "23                1  \n",
      "24                1  \n",
      "25                1  \n",
      "26                1  \n",
      "27                1  \n",
      "28                1  \n",
      "29                1  \n",
      "\n",
      "[30 rows x 27 columns]\n",
      "0.875\n"
     ]
    }
   ],
   "source": [
    "# Testing accuracy for different ML models on point predictions\n",
    "kingStats = player_gamelog('LeBron James')\n",
    "print(kingStats)\n",
    "avgPTS = kingStats['PTS'].mean()\n",
    "#Add Home_Away column\n",
    "homeOrAway(kingStats)\n",
    "# target\n",
    "y = kingStats.PTS\n",
    "# Features should be considered carefully, I just threw in ones I think make sense\n",
    "# Obviously some of these like REB, AST, STL, etc probably don't make sense since we can't know these things before the game, although we might know what his average stats are for those categories before the game\n",
    "kingStats_features = ['PTS', 'Home_Away', ]\n",
    "X = kingStats[kingStats_features]\n",
    "# Splitting data to test for accuracy\n",
    "train_X, val_X, train_y, val_y = train_test_split(X, y, random_state=0)\n",
    "\n",
    "# DecisionTreeRegressor test\n",
    "kingStats_model = DecisionTreeRegressor()\n",
    "kingStats_model.fit(train_X, train_y)\n",
    "val_predictions = kingStats_model.predict(val_X)\n",
    "# ~2.833 MAE, <- haven't really put anything in so would not trust that\n",
    "print(mean_absolute_error(val_y, val_predictions))\n"
   ]
  }
 ],
 "metadata": {
  "kernelspec": {
   "display_name": "base",
   "language": "python",
   "name": "python3"
  },
  "language_info": {
   "codemirror_mode": {
    "name": "ipython",
    "version": 3
   },
   "file_extension": ".py",
   "mimetype": "text/x-python",
   "name": "python",
   "nbconvert_exporter": "python",
   "pygments_lexer": "ipython3",
   "version": "3.9.13"
  }
 },
 "nbformat": 4,
 "nbformat_minor": 2
}
